{
 "cells": [
  {
   "cell_type": "code",
   "execution_count": 2,
   "metadata": {},
   "outputs": [],
   "source": [
    "import networkx as nx\n",
    "import matplotlib.pyplot as plt\n",
    "import pandas as pd\n",
    "from Utils.scraper_script import read_JSON\n",
    "import Modules.NetBuilder.net_builder as net_builder\n",
    "import Modules.NetVisualizer.net_visualizer as net_vis\n",
    "import Modules.NetAnalyser.DataGeneration.script as report_builder"
   ]
  },
  {
   "cell_type": "code",
   "execution_count": 2,
   "metadata": {},
   "outputs": [],
   "source": [
    "rata = read_JSON('./OutputFiles/rata_disability_current_expanded.json')\n",
    "g=net_builder.net_build(rata)\n",
    "for node in list(g.nodes):\n",
    "    if not g.nodes[node]['type']=='canonical_tag':\n",
    "        g.remove_node(node)\n",
    "\n",
    "# net_vis.net_visualize(g)"
   ]
  },
  {
   "cell_type": "markdown",
   "metadata": {},
   "source": [
    "# Properties"
   ]
  },
  {
   "cell_type": "markdown",
   "metadata": {},
   "source": [
    "For analyse if it is strongly/wekly connected drop(not analyse the full expanded rata) the alone nodes (freeforms)"
   ]
  },
  {
   "cell_type": "code",
   "execution_count": 29,
   "metadata": {},
   "outputs": [
    {
     "data": {
      "text/plain": [
       "True"
      ]
     },
     "execution_count": 29,
     "metadata": {},
     "output_type": "execute_result"
    }
   ],
   "source": [
    "#strongly connected if every vertex is reachable from any other vertex\n",
    "nx.is_strongly_connected(g)\n",
    "\n",
    "#if it is strongly connected when ignoring directions\n",
    "nx.is_weakly_connected(g)"
   ]
  },
  {
   "cell_type": "markdown",
   "metadata": {},
   "source": [
    "The eccentricity of a node v is the maximum distance from v to all other nodes in G.\n",
    "\n",
    "Vertex with Min eccentricity is a central point, all central points conform center of the graph"
   ]
  },
  {
   "cell_type": "code",
   "execution_count": 38,
   "metadata": {},
   "outputs": [
    {
     "data": {
      "text/plain": [
       "'Disabled Character'"
      ]
     },
     "execution_count": 38,
     "metadata": {},
     "output_type": "execute_result"
    }
   ],
   "source": [
    "min(nx.eccentricity(g.to_undirected()),key=lambda x: min(x))"
   ]
  },
  {
   "cell_type": "code",
   "execution_count": 74,
   "metadata": {},
   "outputs": [
    {
     "data": {
      "text/plain": [
       "4"
      ]
     },
     "execution_count": 74,
     "metadata": {},
     "output_type": "execute_result"
    }
   ],
   "source": [
    "#max eccentricity \n",
    "nx.diameter(g.to_undirected())\n",
    "\n",
    "#min eccentricity\n",
    "nx.radius(g.to_undirected())"
   ]
  },
  {
   "cell_type": "code",
   "execution_count": 72,
   "metadata": {},
   "outputs": [
    {
     "data": {
      "text/plain": [
       "[('Muteness', 6)]"
      ]
     },
     "execution_count": 72,
     "metadata": {},
     "output_type": "execute_result"
    }
   ],
   "source": [
    "triangles =nx.triangles(g.to_undirected())\n",
    "\n",
    "[(key,value) for key,value in triangles.items() if value>1 ]"
   ]
  },
  {
   "cell_type": "code",
   "execution_count": 98,
   "metadata": {},
   "outputs": [
    {
     "data": {
      "text/plain": [
       "Text(0, 0.5, 'Frequency')"
      ]
     },
     "execution_count": 98,
     "metadata": {},
     "output_type": "execute_result"
    },
    {
     "data": {
      "image/png": "[encoded data removed]",
      "text/plain": [
       "<Figure size 864x576 with 1 Axes>"
      ]
     },
     "metadata": {
      "needs_background": "light"
     },
     "output_type": "display_data"
    }
   ],
   "source": [
    "degree_freq = nx.degree_histogram(g)\n",
    "degrees = range(len(degree_freq))\n",
    "plt.figure(figsize=(12, 8)) \n",
    "plt.loglog(degrees, degree_freq) \n",
    "plt.xlabel('Degree')\n",
    "plt.ylabel('Frequency')"
   ]
  },
  {
   "cell_type": "code",
   "execution_count": 113,
   "metadata": {},
   "outputs": [
    {
     "data": {
      "text/plain": [
       "[('Blind Character', 2),\n",
       " ('Blind James T. Kirk', 3),\n",
       " ('Deaf Character', 2),\n",
       " ('Disabled Character of Color', 2),\n",
       " ('Mute Richie Tozier', 2),\n",
       " ('Mute Eddie Kaspbrak', 2),\n",
       " ('Selectively Mute Clay | Dream (Video Blogging RPF)', 2),\n",
       " ('Selectively Mute Tommyinnit (Video Blogging RPF)', 2),\n",
       " ('Selectively Mute Toby Smith | Tubbo', 2),\n",
       " ('Selectively Mute Technoblade (Video Blogging RPF)', 2),\n",
       " ('Selectively Mute Ranboo (Video Blogging RPF)', 2),\n",
       " ('Mute Kong | Aether (Genshin Impact)', 2),\n",
       " ('Permanent Injury', 2),\n",
       " ('Blind Eddie Kaspbrak', 2),\n",
       " ('Deaf Eddie Kaspbrak', 2),\n",
       " ('Amputee Eddie Kaspbrak', 2),\n",
       " ('Eddie Kaspbrak in a Wheelchair', 2),\n",
       " ('Blind Min Yoongi | Suga', 2),\n",
       " ('Blind Kim Taehyung | V', 2),\n",
       " ('Blind Jeon Jungkook', 2),\n",
       " ('Blind Park Jimin (BTS)', 2),\n",
       " ('Deaf James T. Kirk', 3),\n",
       " ('Deaf Jeon Jungkook', 2),\n",
       " ('Deaf Min Yoongi | Suga', 2),\n",
       " ('Deaf Kim Taehyung | V', 2),\n",
       " ('Deaf Park Jimin (BTS)', 2),\n",
       " ('Jeon Jungkook in a Wheelchair', 2),\n",
       " ('Park Jimin in a Wheelchair (BTS)', 2),\n",
       " ('Logic | Logan Sanders In A Wheelchair', 2),\n",
       " ('Charles Xavier in a Wheelchair', 2),\n",
       " ('Paralyzed Charles Xavier', 2),\n",
       " ('Blind James T*d* Kirk', 2),\n",
       " ('Deaf James T*d* Kirk', 2)]"
      ]
     },
     "execution_count": 113,
     "metadata": {},
     "output_type": "execute_result"
    }
   ],
   "source": [
    "[(k,v) for k,v in dict(g.in_degree).items() if v>= 2]\n"
   ]
  },
  {
   "cell_type": "code",
   "execution_count": 102,
   "metadata": {},
   "outputs": [],
   "source": [
    "max=(0,1)\n",
    "for node in g.nodes:\n",
    "    if g.out_degree(node) > max[0]:\n",
    "        max=(g.out_degree(node),node)"
   ]
  },
  {
   "cell_type": "code",
   "execution_count": 118,
   "metadata": {},
   "outputs": [
    {
     "data": {
      "text/plain": [
       "[('Disability', 'Blindness'),\n",
       " ('Blindness', 'Blind Character'),\n",
       " ('Blind Character', 'Disabled Character'),\n",
       " ('Disabled Character', 'Disability')]"
      ]
     },
     "execution_count": 118,
     "metadata": {},
     "output_type": "execute_result"
    }
   ],
   "source": [
    "nx.find_cycle(g.to_undirected())"
   ]
  },
  {
   "cell_type": "markdown",
   "metadata": {},
   "source": [
    "# More properties"
   ]
  },
  {
   "cell_type": "code",
   "execution_count": 137,
   "metadata": {},
   "outputs": [],
   "source": [
    "a= nx.k_components(g.to_undirected())"
   ]
  },
  {
   "cell_type": "code",
   "execution_count": 154,
   "metadata": {},
   "outputs": [],
   "source": [
    "b=[]\n",
    "[b.extend(list(item))for item in a[2]]\n",
    "h=g.subgraph(b)"
   ]
  },
  {
   "cell_type": "code",
   "execution_count": 155,
   "metadata": {},
   "outputs": [
    {
     "data": {
      "text/plain": [
       "<class 'pyvis.network.Network'> |N|=667 |E|=696"
      ]
     },
     "execution_count": 155,
     "metadata": {},
     "output_type": "execute_result"
    }
   ],
   "source": [
    "net_vis.net_visualize(h, file_name=\"first_component\")"
   ]
  },
  {
   "cell_type": "markdown",
   "metadata": {},
   "source": [
    "# Reports\n"
   ]
  },
  {
   "cell_type": "code",
   "execution_count": 3,
   "metadata": {},
   "outputs": [],
   "source": [
    "dfs=report_builder.get_G_properties(g)\n",
    "report_builder.save_xls(dfs, './report.xlsx')"
   ]
  },
  {
   "cell_type": "code",
   "execution_count": 4,
   "metadata": {},
   "outputs": [
    {
     "data": {
      "text/plain": [
       "''"
      ]
     },
     "execution_count": 4,
     "metadata": {},
     "output_type": "execute_result"
    }
   ],
   "source": [
    "g.name"
   ]
  }
 ],
 "metadata": {
  "interpreter": {
   "hash": "87cdc7eef6c6cd4fceda7e27cb75fb28c96fc5b15f54dcab50faa1427b5814d6"
  },
  "kernelspec": {
   "display_name": "Python 3.7.11 ('base')",
   "language": "python",
   "name": "python3"
  },
  "language_info": {
   "codemirror_mode": {
    "name": "ipython",
    "version": 3
   },
   "file_extension": ".py",
   "mimetype": "text/x-python",
   "name": "python",
   "nbconvert_exporter": "python",
   "pygments_lexer": "ipython3",
   "version": "3.7.11"
  },
  "orig_nbformat": 4
 },
 "nbformat": 4,
 "nbformat_minor": 2
}
