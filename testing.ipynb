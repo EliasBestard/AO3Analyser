{
 "cells": [
  {
   "cell_type": "code",
   "execution_count": 2,
   "metadata": {},
   "outputs": [],
   "source": [
    "from subprocess import check_output\n",
    "import subprocess\n",
    "import os\n",
    "import sys\n",
    "import json\n",
    "import networkx as nx\n",
    "import matplotlib.pyplot as plt \n",
    "from pyvis.network import Network\n",
    "from Modules.NetVisualizer.net_visualizer import *\n",
    "from Modules.NetBuilder.net_builder import net_build\n",
    "from Utils.scripts import *\n",
    "import pandas as pd\n",
    "from random import randint\n",
    "import seaborn as sns\n",
    "from wordcloud import WordCloud"
   ]
  },
  {
   "cell_type": "markdown",
   "metadata": {},
   "source": [
    "# DaScra\n",
    "Uses DaScra code to mine the archive and get a set of stories in a fandom and their information"
   ]
  },
  {
   "cell_type": "code",
   "execution_count": null,
   "metadata": {},
   "outputs": [],
   "source": [
    "data_to_read='./OutputFiles/SuperNaturalDataset/superNatural_dascra_output.xlsx'\n",
    "\n",
    "stories_df= pd.read_excel(data_to_read,\n",
    "              dtype={\n",
    "                  'AdditionalTags': str, 'ArchiveWarning': str,\n",
    "                  'Author': str, 'Bookmarks': str,\n",
    "                  'Category': str, 'Chapters': str,\n",
    "                  'Characters': str, 'Comments': str,\n",
    "                  'Fandom': str, 'Hits': int,\n",
    "                  'Kudos': object, 'Language': str,\n",
    "                  'Rating': str, 'Relationship': str,\n",
    "                  'Series': str, 'Part': float,\n",
    "                  'SourceURL': str, 'Title': str,\n",
    "                  'Updated': str, 'Words': str,\n",
    "              }) \n",
    "# stories_df=stories_df[['Title', 'AdditionalTags']]"
   ]
  },
  {
   "cell_type": "code",
   "execution_count": null,
   "metadata": {},
   "outputs": [],
   "source": [
    "stories_df=stories_df.drop_duplicates()\n",
    "stories_df=stories_df.loc[stories_df.Language=='English']\n",
    "stories_df=stories_df.drop(columns=['Comments','Hits','Kudos','SourceURL'])\n"
   ]
  },
  {
   "cell_type": "code",
   "execution_count": null,
   "metadata": {},
   "outputs": [],
   "source": [
    "stories_df.duplicated(subset=['Title','AdditionalTags',]).sum()\n",
    "stories_df.duplicated(subset=['Title','AdditionalTags','Chapters','Part','Author','Updated']).sum()\n",
    "stories_df.duplicated().sum()\n",
    "# stories_df.duplicated(subset=['AdditionalTags']).sum()\n"
   ]
  },
  {
   "cell_type": "code",
   "execution_count": null,
   "metadata": {},
   "outputs": [],
   "source": [
    "stories_df['AdditionalTags'].map(str)\n"
   ]
  },
  {
   "cell_type": "code",
   "execution_count": null,
   "metadata": {},
   "outputs": [],
   "source": [
    "stories_df['AdditionalTags']=stories_df['AdditionalTags'].map(str)\n",
    "# DO it better all in one pass\n",
    "additional_tags=','.join([','.join(tags.split(\",\")) for tags in stories_df[\"AdditionalTags\"][:1000]]).replace(\"/\",'*s*').replace(\".\",'*d*').split(',')\n",
    "additional_tags = [item.strip() for item in additional_tags]\n",
    "print(len(additional_tags))\n",
    "# additional_tags=list(set(additional_tags))\n",
    "# print(len(additional_tags))"
   ]
  },
  {
   "cell_type": "code",
   "execution_count": null,
   "metadata": {},
   "outputs": [],
   "source": [
    "word_cloud = WordCloud(collocations = False, background_color = 'white').generate(','.join(additional_tags))"
   ]
  },
  {
   "cell_type": "code",
   "execution_count": null,
   "metadata": {},
   "outputs": [],
   "source": [
    "wordcloud = WordCloud(width = 1000, height = 500,background_color=\"white\").generate_from_frequencies(a)\n",
    "\n",
    "plt.figure(figsize=(15,8))\n",
    "plt.axis('off')\n",
    "plt.imshow(wordcloud)"
   ]
  },
  {
   "cell_type": "markdown",
   "metadata": {},
   "source": [
    "## Cleaning"
   ]
  },
  {
   "cell_type": "code",
   "execution_count": null,
   "metadata": {},
   "outputs": [],
   "source": [
    "stories_df['Additional Tags:']=stories_df['Additional Tags:'].str.split(',')\n",
    "stories_df['Additional Tags:']=stories_df['Additional Tags:'].apply(lambda x: [item.strip() for item in x])\n",
    "# stories_df['Additional Tags:']=stories_df['Additional Tags:'].apply(lambda x: ','.join(x))"
   ]
  },
  {
   "cell_type": "code",
   "execution_count": null,
   "metadata": {},
   "outputs": [],
   "source": [
    "stories_df['Title:']=stories_df['Title:'].apply(lambda x: x.strip())\n",
    "# stories_df['Title:']\n"
   ]
  },
  {
   "cell_type": "markdown",
   "metadata": {},
   "source": [
    "# TagScra\n",
    "From a set of tags it scrap the RATAS in the archive and create JSON files with the info"
   ]
  },
  {
   "cell_type": "code",
   "execution_count": null,
   "metadata": {},
   "outputs": [],
   "source": [
    "#TODO add the output file name of the JSON tag-data as parameter\n",
    "args_to_tags_scraper=['node', './Modules/TagScraping/scraper.js' ]\n",
    "\n",
    "\n",
    "tag_structure_file_name='current_tag_net'\n",
    "# additional_tags=[\"Hogwarts Eighth Year\",'Hogwarts Era',\"Hogwarts Fourth Year\"]\n",
    "# additional_tags=[\"Deaf Character\", \"Disability\",\"Hogwarts Eighth Year\",'Hogwarts Era',\"Hogwarts Fourth Year\"]\n",
    "\n",
    "\n",
    "# tag_structure_file_name='Disability_current_tag_net'\n",
    "# additional_tags=[\"Disability\"]\n",
    "\n",
    "\n",
    "# tag_structure_file_name='Disability_old_tag_net'\n",
    "# additional_tags=[\"Disability\"]\n",
    "# args_to_tags_scraper.extend(['-av','old'])\n",
    "\n",
    "\n",
    "\n",
    "args_to_tags_scraper.extend(['-of',tag_structure_file_name])\n",
    "args_to_tags_scraper.extend(['-t'])\n",
    "args_to_tags_scraper.extend(additional_tags)\n",
    "\n",
    "# p = check_output(args_to_tags_scraper)\n",
    "\n",
    "with open('test.log', 'wb') as f: \n",
    "    process = subprocess.Popen(args_to_tags_scraper, stdout=subprocess.PIPE)\n",
    "    for c in iter(lambda: process.stdout.read(1), b''): \n",
    "        sys.stdout.write(c.decode())\n",
    "\n"
   ]
  },
  {
   "cell_type": "markdown",
   "metadata": {},
   "source": [
    "# Building the Network and Visuals"
   ]
  },
  {
   "cell_type": "markdown",
   "metadata": {},
   "source": [
    "## Disability and Ableism Databases"
   ]
  },
  {
   "cell_type": "markdown",
   "metadata": {},
   "source": [
    "### Disability Database\n"
   ]
  },
  {
   "cell_type": "code",
   "execution_count": null,
   "metadata": {},
   "outputs": [],
   "source": [
    "#Disability database\n",
    "database_path='./OutputFiles/disability_rata_database'\n",
    "disability_graph_list=[]\n",
    "\n",
    "for filename in os.listdir(database_path):\n",
    "   file_path=os.path.join(os.path.abspath(database_path), filename)\n",
    "   version=filename.split('_')[2].replace('.json','')\n",
    "   g,v= visualize_ratas_json(file_path,headings='Disability Rata '+version, file_name='disability_rata_'+version, show_it=False)\n",
    "   disability_graph_list.append(g)\n",
    "   print(filename)\n"
   ]
  },
  {
   "cell_type": "markdown",
   "metadata": {},
   "source": [
    "### Ableism Database"
   ]
  },
  {
   "cell_type": "code",
   "execution_count": null,
   "metadata": {},
   "outputs": [],
   "source": [
    "#Ableism database\n",
    "database_path='./OutputFiles/ableism_rata_database'\n",
    "\n",
    "for filename in os.listdir(database_path):\n",
    "   file_path=os.path.join(os.path.abspath(database_path), filename)\n",
    "   version=filename.split('_')[2].replace('.json','')\n",
    "   visualize_ratas_json(file_path,headings='Ableism Rata '+version, file_name='ableism_rata_'+version)"
   ]
  },
  {
   "cell_type": "code",
   "execution_count": null,
   "metadata": {},
   "outputs": [],
   "source": [
    "visualize_ratas_json('./OutputFiles/Disability_old_tag_net.json',headings='Disability old', file_name='disability_old_testing')\n"
   ]
  },
  {
   "cell_type": "code",
   "execution_count": 3,
   "metadata": {},
   "outputs": [
    {
     "ename": "TypeError",
     "evalue": "'NoneType' object is not subscriptable",
     "output_type": "error",
     "traceback": [
      "\u001b[1;31m---------------------------------------------------------------------------\u001b[0m",
      "\u001b[1;31mTypeError\u001b[0m                                 Traceback (most recent call last)",
      "\u001b[1;32m~\\AppData\\Local\\Temp\\ipykernel_17228\\2353208705.py\u001b[0m in \u001b[0;36m<module>\u001b[1;34m\u001b[0m\n\u001b[1;32m----> 1\u001b[1;33m \u001b[0mvisualize_ratas_json\u001b[0m\u001b[1;33m(\u001b[0m\u001b[1;34m'./OutputFiles/syn_disability_jsons/syn_disability_rata_2013.json'\u001b[0m\u001b[1;33m,\u001b[0m\u001b[0mheadings\u001b[0m\u001b[1;33m=\u001b[0m\u001b[1;34m'Disability old'\u001b[0m\u001b[1;33m,\u001b[0m \u001b[0mfile_name\u001b[0m\u001b[1;33m=\u001b[0m\u001b[1;34m'jajajajajaj'\u001b[0m\u001b[1;33m)\u001b[0m\u001b[1;33m\u001b[0m\u001b[1;33m\u001b[0m\u001b[0m\n\u001b[0m",
      "\u001b[1;32md:\\Documents\\GitHub\\AO3Analyser\\Utils\\scripts.py\u001b[0m in \u001b[0;36mvisualize_ratas_json\u001b[1;34m(ratas_file, hierarchical_layout, node_sizes, headings, file_name, show_it)\u001b[0m\n\u001b[0;32m     20\u001b[0m             \u001b[0mcurrent_data\u001b[0m\u001b[1;33m.\u001b[0m\u001b[0m__delitem__\u001b[0m\u001b[1;33m(\u001b[0m\u001b[0mitem\u001b[0m\u001b[1;33m)\u001b[0m\u001b[1;33m\u001b[0m\u001b[1;33m\u001b[0m\u001b[0m\n\u001b[0;32m     21\u001b[0m \u001b[1;33m\u001b[0m\u001b[0m\n\u001b[1;32m---> 22\u001b[1;33m     \u001b[0mG\u001b[0m \u001b[1;33m=\u001b[0m \u001b[0mnet_build\u001b[0m\u001b[1;33m(\u001b[0m\u001b[0mcurrent_data\u001b[0m\u001b[1;33m)\u001b[0m\u001b[1;33m\u001b[0m\u001b[1;33m\u001b[0m\u001b[0m\n\u001b[0m\u001b[0;32m     23\u001b[0m     \u001b[0mcurrent_dis\u001b[0m\u001b[1;33m=\u001b[0m\u001b[0mnet_visualize\u001b[0m\u001b[1;33m(\u001b[0m\u001b[0mG\u001b[0m\u001b[1;33m,\u001b[0m \u001b[0mhierarchical_layout\u001b[0m\u001b[1;33m,\u001b[0m\u001b[0mnode_sizes\u001b[0m\u001b[1;33m,\u001b[0m\u001b[0mheadings\u001b[0m\u001b[1;33m,\u001b[0m\u001b[0mfile_name\u001b[0m\u001b[1;33m,\u001b[0m \u001b[0mshow_it\u001b[0m\u001b[1;33m)\u001b[0m\u001b[1;33m\u001b[0m\u001b[1;33m\u001b[0m\u001b[0m\n\u001b[0;32m     24\u001b[0m \u001b[1;33m\u001b[0m\u001b[0m\n",
      "\u001b[1;32md:\\Documents\\GitHub\\AO3Analyser\\Modules\\NetBuilder\\net_builder.py\u001b[0m in \u001b[0;36mnet_build\u001b[1;34m(data)\u001b[0m\n\u001b[0;32m     16\u001b[0m             \u001b[0mprint\u001b[0m\u001b[1;33m(\u001b[0m\u001b[1;34m\"her\"\u001b[0m\u001b[1;33m)\u001b[0m\u001b[1;33m\u001b[0m\u001b[1;33m\u001b[0m\u001b[0m\n\u001b[0;32m     17\u001b[0m         \u001b[0mtag\u001b[0m\u001b[1;33m=\u001b[0m\u001b[0mtag\u001b[0m\u001b[1;33m.\u001b[0m\u001b[0mstrip\u001b[0m\u001b[1;33m(\u001b[0m\u001b[1;33m)\u001b[0m\u001b[1;33m\u001b[0m\u001b[1;33m\u001b[0m\u001b[0m\n\u001b[1;32m---> 18\u001b[1;33m         \u001b[1;32mif\u001b[0m \u001b[0mdata\u001b[0m\u001b[1;33m[\u001b[0m\u001b[0mtag\u001b[0m\u001b[1;33m]\u001b[0m\u001b[1;33m[\u001b[0m\u001b[1;34m\"type\"\u001b[0m\u001b[1;33m]\u001b[0m\u001b[1;33m==\u001b[0m\u001b[1;34m\"canonical_tag\"\u001b[0m\u001b[1;33m:\u001b[0m\u001b[1;33m\u001b[0m\u001b[1;33m\u001b[0m\u001b[0m\n\u001b[0m\u001b[0;32m     19\u001b[0m \u001b[1;33m\u001b[0m\u001b[0m\n\u001b[0;32m     20\u001b[0m             \u001b[0mdata\u001b[0m\u001b[1;33m[\u001b[0m\u001b[0mtag\u001b[0m\u001b[1;33m]\u001b[0m\u001b[1;33m[\u001b[0m\u001b[1;34m\"synned_tags\"\u001b[0m\u001b[1;33m]\u001b[0m\u001b[1;33m.\u001b[0m\u001b[0mremove\u001b[0m\u001b[1;33m(\u001b[0m\u001b[1;34m''\u001b[0m\u001b[1;33m)\u001b[0m \u001b[1;32mif\u001b[0m \u001b[1;34m''\u001b[0m \u001b[1;32min\u001b[0m \u001b[0mdata\u001b[0m\u001b[1;33m[\u001b[0m\u001b[0mtag\u001b[0m\u001b[1;33m]\u001b[0m\u001b[1;33m[\u001b[0m\u001b[1;34m\"synned_tags\"\u001b[0m\u001b[1;33m]\u001b[0m \u001b[1;32melse\u001b[0m \u001b[1;32mNone\u001b[0m\u001b[1;33m\u001b[0m\u001b[1;33m\u001b[0m\u001b[0m\n",
      "\u001b[1;31mTypeError\u001b[0m: 'NoneType' object is not subscriptable"
     ]
    }
   ],
   "source": [
    "visualize_ratas_json('./OutputFiles/syn_disability_jsons/syn_disability_rata_2013.json',headings='Disability old', file_name='jajajajajaj')\n"
   ]
  },
  {
   "cell_type": "markdown",
   "metadata": {},
   "source": [
    "## More Tags"
   ]
  },
  {
   "cell_type": "code",
   "execution_count": null,
   "metadata": {},
   "outputs": [],
   "source": [
    "visualize_ratas_json('./OutputFiles/current_tag_net.json',headings='Current Tag Network:', file_name='current_tag_net')"
   ]
  },
  {
   "cell_type": "code",
   "execution_count": null,
   "metadata": {},
   "outputs": [],
   "source": [
    "args_to_tags_scraper=['node', './Modules/TagScraping/scraper.js' ]\n",
    "\n",
    "args_to_tags_scraper.extend(['-of',\"old_tag_net\"])\n",
    "args_to_tags_scraper.extend(['-t'])\n",
    "args_to_tags_scraper.extend(additional_tags[:190])\n",
    "args_to_tags_scraper.extend(['-av', 'old'])\n",
    "\n",
    "# p = check_output(args_to_tags_scraper)\n",
    "\n",
    "with open('test.log', 'wb') as f: \n",
    "    process = subprocess.Popen(args_to_tags_scraper, stdout=subprocess.PIPE)\n",
    "    for c in iter(lambda: process.stdout.read(1), b''): \n",
    "        sys.stdout.write(c.decode())\n"
   ]
  },
  {
   "cell_type": "code",
   "execution_count": null,
   "metadata": {},
   "outputs": [],
   "source": [
    "with open('./OutputFiles/Disability_current_tag_net.json', 'r', encoding='utf-8') as f:\n",
    "  current_data = json.load(f)\n",
    "f.close()\n",
    "\n",
    "H = net_build(current_data)\n",
    "\n",
    "# current_dis=net_visualize(H, hierarchical_layout=False, node_sizes=True,headings=\"Old Tag Network:\"+','.join(additional_tags), file_name=tag_structure_file_name)"
   ]
  },
  {
   "cell_type": "code",
   "execution_count": null,
   "metadata": {},
   "outputs": [],
   "source": [
    "j= G.copy()\n",
    "\n",
    "j.add_nodes_from(H.nodes)\n",
    "j.add_edges_from(H.edges)\n",
    "\n",
    "for node in j.nodes:\n",
    "    j.nodes[node]['color']= '#19A968' if H.has_node(node) else '#E67E22'\n",
    "\n",
    "for x,y in j.edges:\n",
    "    j.edges[x,y]['color']= '#19A968' if H.has_edge(x,y) else '#E67E22'    "
   ]
  },
  {
   "cell_type": "code",
   "execution_count": null,
   "metadata": {},
   "outputs": [],
   "source": [
    "current_dis=net_visualize(j, hierarchical_layout=False, node_sizes=True,headings=\"Combination of different tags in Supernatural y Disability-Tag_network\", file_name='combo_supernatural_disability')\n"
   ]
  },
  {
   "cell_type": "code",
   "execution_count": null,
   "metadata": {},
   "outputs": [],
   "source": [
    "j= G.copy()\n",
    "\n",
    "for node in j.nodes:\n",
    "    j.nodes[node]['color']= '#19A968' if H.has_node(node) else '#E67E22'\n",
    "\n",
    "for x,y in j.edges:\n",
    "    j.edges[x,y]['color']= '#19A968' if H.has_edge(x,y) else '#E67E22'  "
   ]
  },
  {
   "cell_type": "code",
   "execution_count": null,
   "metadata": {},
   "outputs": [],
   "source": [
    "current_dis=net_visualize(j, hierarchical_layout=False, node_sizes=True,headings=\"aaa\", file_name='prueba')\n"
   ]
  },
  {
   "cell_type": "markdown",
   "metadata": {},
   "source": [
    "## Similarities with Color-Layout\n"
   ]
  },
  {
   "cell_type": "code",
   "execution_count": null,
   "metadata": {},
   "outputs": [],
   "source": [
    "H,G= disability_graph_list[0],disability_graph_list[1]\n",
    "new_vis, old_vis = get_visuals_older_vs_newest(H.copy(), G.copy(),hierarchical_layout=False)\n",
    "new_vis.show(\"Disability_current_tag_net_updated.html\")\n",
    "old_vis.show(\"Disability_old_tag_net_updated.html\")"
   ]
  },
  {
   "cell_type": "markdown",
   "metadata": {},
   "source": [
    "## Getting the difference\n"
   ]
  },
  {
   "cell_type": "markdown",
   "metadata": {},
   "source": [
    "### Current Disability Tag-Net - Old Disability Tag-Net\n",
    "\n",
    "Red represents the nodes and edges that will be removed in the difference, the ones that belong to the current verion that also belon to the older\n",
    "\n",
    "#### Blue represents what it is in the current version that was not in the older version == NEW"
   ]
  },
  {
   "cell_type": "code",
   "execution_count": null,
   "metadata": {},
   "outputs": [],
   "source": [
    "diff_G_H,diff_G_H_vis=get_vis_G_diff_H(G,H,False,title=\"Diff new-old Disability\")\n",
    "diff_G_H_vis.show(\"diff_Disability_new_old.html\")"
   ]
  },
  {
   "cell_type": "markdown",
   "metadata": {},
   "source": [
    "### Old Disability Tag-Net - Current Disability Tag-Net\n",
    "\n",
    "Red represents the nodes and edges that will be removed in the difference, the ones that belong to the old verion that also belong to the current\n",
    "\n",
    "#### Blue represents what it was in the Old version that is not there in the current version == CHANGES, EVOLUTION"
   ]
  },
  {
   "cell_type": "code",
   "execution_count": null,
   "metadata": {},
   "outputs": [],
   "source": [
    "diff_H_G,diff_H_G_vis=get_vis_G_diff_H(H,G,False, title=\"Diff old-new Disability\")\n",
    "diff_H_G_vis.show(\"diff_Disability_old_new.html\")"
   ]
  },
  {
   "cell_type": "code",
   "execution_count": null,
   "metadata": {},
   "outputs": [],
   "source": [
    "diff_H_G,diff_H_G_vis=get_vis_G_diff_H(H,G,False, title=\"Diff old-new\")\n",
    "diff_H_G_vis.show(\"diff_old_new.html\")"
   ]
  },
  {
   "cell_type": "markdown",
   "metadata": {},
   "source": [
    "# Connecting Stories using the RATAS"
   ]
  },
  {
   "cell_type": "code",
   "execution_count": null,
   "metadata": {},
   "outputs": [],
   "source": [
    "S=nx.Graph()\n",
    "S.add_nodes_from(stories_df['Title:'])\n",
    "for story in stories_df['Title:']:\n",
    "    for conection in stories_df.loc[stories_df['Additional Tags:'].apply(lambda x: 'Fluff' in set(x)), 'Title:']:\n",
    "        S.add_edge(story,conection) if not story==conection else None\n",
    "\n",
    "net_visualize(S,False,False,\"Full Story-Tag Net\",'full_story_net')"
   ]
  },
  {
   "cell_type": "code",
   "execution_count": null,
   "metadata": {},
   "outputs": [],
   "source": [
    "S=nx.Graph()\n",
    "S.add_nodes_from(stories_df['Title:'])\n",
    "for story in stories_df['Title:']:\n",
    "    for conection in stories_df.loc[stories_df['Additional Tags:'].apply(lambda x: 'Fluff' in set(x)), 'Title:']:\n",
    "        S.add_edge(story,conection) if not story==conection else None\n",
    "        # S[story][conection]['color']='#2196F3' if not edge in list_edges else '#E91E63'\n",
    "\n",
    "net_visualize(S,False,False,\"Full Story-Tag Net\",'full_story_net')"
   ]
  },
  {
   "cell_type": "markdown",
   "metadata": {},
   "source": [
    "# Reporting information\n"
   ]
  },
  {
   "cell_type": "code",
   "execution_count": null,
   "metadata": {},
   "outputs": [],
   "source": [
    "info_dict=get_G_info(disability_graph_list[0])"
   ]
  },
  {
   "cell_type": "code",
   "execution_count": null,
   "metadata": {},
   "outputs": [],
   "source": [
    "info_dict=get_G_diff_H_info(disability_graph_list[1],disability_graph_list[0], \"Disability 2014\", \"Disability 2013\")"
   ]
  },
  {
   "cell_type": "code",
   "execution_count": null,
   "metadata": {},
   "outputs": [],
   "source": [
    "info_dict=get_G_H_political_acts_info(disability_graph_list[1],disability_graph_list[0], \"Disability 2014\", \"Disability 2013\")"
   ]
  },
  {
   "cell_type": "code",
   "execution_count": null,
   "metadata": {},
   "outputs": [],
   "source": [
    "years='2013, 2014, 2015, 2016, 2017, 2018, 2021, 2022'.split(',')\n",
    "for i in range(1, len(disability_graph_list)):\n",
    "    get_G_H_political_acts_info(disability_graph_list[i],disability_graph_list[i-1], \"Disability \"+years[i], \"Disability \"+years[i-1],w_mode='a')"
   ]
  },
  {
   "cell_type": "code",
   "execution_count": null,
   "metadata": {},
   "outputs": [],
   "source": [
    "gen_tags_dataset(disability_graph_list[-1],disability_graph_list[-2],True)"
   ]
  },
  {
   "cell_type": "code",
   "execution_count": null,
   "metadata": {},
   "outputs": [],
   "source": [
    "\n",
    "gen_tags_dataset_list(disability_graph_list)"
   ]
  }
 ],
 "metadata": {
  "interpreter": {
   "hash": "87cdc7eef6c6cd4fceda7e27cb75fb28c96fc5b15f54dcab50faa1427b5814d6"
  },
  "kernelspec": {
   "display_name": "Python 3.7.11 ('base')",
   "language": "python",
   "name": "python3"
  },
  "language_info": {
   "codemirror_mode": {
    "name": "ipython",
    "version": 3
   },
   "file_extension": ".py",
   "mimetype": "text/x-python",
   "name": "python",
   "nbconvert_exporter": "python",
   "pygments_lexer": "ipython3",
   "version": "3.7.11"
  },
  "orig_nbformat": 4
 },
 "nbformat": 4,
 "nbformat_minor": 2
}
