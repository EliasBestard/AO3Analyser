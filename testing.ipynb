{
 "cells": [
  {
   "cell_type": "code",
   "execution_count": null,
   "metadata": {},
   "outputs": [],
   "source": [
    "from subprocess import check_output\n",
    "import json\n",
    "import networkx as nx\n",
    "import matplotlib.pyplot as plt \n",
    "from pyvis.network import Network\n",
    "from Modules.NetVisualizer.net_visualizer import net_visualize\n",
    "from Modules.NetBuilder.net_builder import net_build\n",
    "import pandas as pd"
   ]
  },
  {
   "cell_type": "markdown",
   "metadata": {},
   "source": [
    "## DaScra\n",
    "Uses Ricky's code to mine the archive and get a set of stories in a fandom and their information"
   ]
  },
  {
   "cell_type": "code",
   "execution_count": null,
   "metadata": {},
   "outputs": [],
   "source": [
    "# rick=['node', './Modules/DaScra/scraper.js']\n",
    "# d = check_output(rick)\n",
    "stories_df= pd.read_excel('dascra_output.xlsx',\n",
    "              dtype={\n",
    "                  'Additional Tags:': str, 'Archive Warning:': str,\n",
    "                  'Author:': str, 'Bookmarks:': str,\n",
    "                  'Category:': str, 'Chapters:': str,\n",
    "                  'Characters:': str, 'Comments:': str,\n",
    "                  'Fandom:': str, 'Hits:': int,\n",
    "                  'Kudos:': int, 'Language:': str,\n",
    "                  'Rating:': str, 'Relationship:': str,\n",
    "                  'Series:': str, 'Part:': float,\n",
    "                  'Source URL:': str, 'Title:': str,\n",
    "                  'Updated:': str, 'Words:': str,\n",
    "              }) \n",
    "\n",
    "\n",
    "# DO it better all in one pass\n",
    "additional_tags=','.join([','.join(tags.split(\",\")) for tags in stories_df[\"Additional Tags:\"]]).replace(\"/\",'*s*').split(',')\n",
    "print(len(additional_tags))\n",
    "additional_tags = [item.strip() for item in additional_tags]\n",
    "additional_tags=list(set(additional_tags))\n",
    "print(len(additional_tags))"
   ]
  },
  {
   "cell_type": "markdown",
   "metadata": {},
   "source": [
    "## TagScra\n",
    "From a set of tags it scrap the RATAS in the archive and create JSON files with the info"
   ]
  },
  {
   "cell_type": "code",
   "execution_count": null,
   "metadata": {},
   "outputs": [],
   "source": [
    "#TODO add the output file name of the JSON tag-data as parameter\n",
    "\n",
    "tag_structure_file_name='current_tag_net'\n",
    "# tag_structure_file_name='Disability_tag_net'\n",
    "# tag_structure_file_name='old_tag_net'\n",
    "\n",
    "tags_to_mine=['node', './Modules/TagScraping/scraper.js',tag_structure_file_name,\"Hogwarts Eighth Year\",'Hogwarts Era',\"Hogwarts Fourth Year\"]\n",
    "# tags_to_mine=['node', './Modules/TagScraping/scraper.js',tag_structure_file_name ,\"Deaf Character\", \"Disability\",\"Hogwarts Eighth Year\",'Hogwarts Era',\"Hogwarts Fourth Year\"]\n",
    "# tags_to_mine=['node', './Modules/TagScraping/scraper.js',tag_structure_file_name ,\"Disability\",]\n",
    "\n",
    "\n",
    "# tags_to_mine=['node', './Modules/TagScraping/scraper.js,tag_structure_file_name']\n",
    "# tags_to_mine.extend(additional_tags)\n",
    "\n",
    "# p = check_output(tags_to_mine)"
   ]
  },
  {
   "cell_type": "markdown",
   "metadata": {},
   "source": [
    "## Building the Network and Visuals"
   ]
  },
  {
   "cell_type": "code",
   "execution_count": null,
   "metadata": {},
   "outputs": [],
   "source": [
    "with open('./'+tag_structure_file_name+'.json', 'r', encoding='utf-8') as f:\n",
    "  data = json.load(f)\n",
    "f.close()\n",
    "\n",
    "G = net_build(data)\n",
    "# net_visualize(G, hierarchical_layout=False, node_sizes=True,headings=\"Tag Network of: \"+ \",\".join(tags_to_mine[3:]), file_name=tag_structure_file_name)"
   ]
  },
  {
   "cell_type": "code",
   "execution_count": null,
   "metadata": {},
   "outputs": [],
   "source": [
    "net_visualize(G, hierarchical_layout=False, node_sizes=True,headings=\"Tag Network of: \"+ \",\".join(tags_to_mine[3:]), file_name=tag_structure_file_name)\n"
   ]
  },
  {
   "cell_type": "markdown",
   "metadata": {},
   "source": [
    "## Getting the difference\n"
   ]
  },
  {
   "cell_type": "code",
   "execution_count": null,
   "metadata": {},
   "outputs": [],
   "source": [
    "# with open('./old_tag_net.json', 'r', encoding='utf-8') as f:\n",
    "#   old_data = json.load(f)\n",
    "\n",
    "# G_old= net_build(old_data)\n",
    "# net_visualize(G_old, hierarchical_layout=False, node_sizes=True,headings=\"Tag Network of: \"+ \",\".join(tags_to_mine[3:]), file_name=\"old_tag_net\")\n",
    "\n",
    "# INtersection\n",
    "# g= nx.intersection(G,G_old)\n",
    "# for node in g.nodes:\n",
    "#     g.nodes[node]['group']=G.nodes[node]['group']\n",
    "#     g.nodes[node]['title']=G.nodes[node]['title']\n",
    "# net_visualize(g, hierarchical_layout=False, node_sizes=True,headings=\"Intersection\", file_name=\"temp\")\n",
    "\n",
    "# for node in g.nodes:\n",
    "#     G.nodes[node]['group']=10\n",
    "# for node in G.nodes:\n",
    "#     G.nodes[node]['group']=10 if G.nodes[node]['group']==10 else 0\n",
    "#     G.nodes[node]['color']='green' if G.nodes[node]['group']==10 else 'blue'\n",
    "# net_visualize(G, hierarchical_layout=False, node_sizes=True,headings=\"Intersection\", file_name=\"temp\")    "
   ]
  }
 ],
 "metadata": {
  "interpreter": {
   "hash": "15315f8305ada7403457222de4ff35602b3ada66060eaca93174c828b1ddc526"
  },
  "kernelspec": {
   "display_name": "Python 3.8.3 ('base')",
   "language": "python",
   "name": "python3"
  },
  "language_info": {
   "codemirror_mode": {
    "name": "ipython",
    "version": 3
   },
   "file_extension": ".py",
   "mimetype": "text/x-python",
   "name": "python",
   "nbconvert_exporter": "python",
   "pygments_lexer": "ipython3",
   "version": "3.7.11"
  },
  "orig_nbformat": 4
 },
 "nbformat": 4,
 "nbformat_minor": 2
}
