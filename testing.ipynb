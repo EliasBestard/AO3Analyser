{
 "cells": [
  {
   "cell_type": "code",
   "execution_count": 1,
   "metadata": {},
   "outputs": [],
   "source": [
    "from subprocess import check_output\n",
    "import json\n",
    "import networkx as nx\n",
    "import matplotlib.pyplot as plt \n",
    "from pyvis.network import Network\n",
    "from Modules.NetVisualizer.net_visualizer import *\n",
    "from Modules.NetBuilder.net_builder import net_build\n",
    "import pandas as pd\n",
    "from random import randint"
   ]
  },
  {
   "cell_type": "markdown",
   "metadata": {},
   "source": [
    "# DaScra\n",
    "Uses DaScra code to mine the archive and get a set of stories in a fandom and their information"
   ]
  },
  {
   "cell_type": "code",
   "execution_count": 85,
   "metadata": {},
   "outputs": [
    {
     "name": "stdout",
     "output_type": "stream",
     "text": [
      "35\n",
      "30\n"
     ]
    }
   ],
   "source": [
    "# story_set_metadata=['node', './Modules/DaScra/scraper.js']\n",
    "# d = check_output(story_set_metadata)\n",
    "stories_df= pd.read_excel('./OutputFiles/dascra_output.xlsx',\n",
    "              dtype={\n",
    "                  'Additional Tags:': str, 'Archive Warning:': str,\n",
    "                  'Author:': str, 'Bookmarks:': str,\n",
    "                  'Category:': str, 'Chapters:': str,\n",
    "                  'Characters:': str, 'Comments:': str,\n",
    "                  'Fandom:': str, 'Hits:': int,\n",
    "                  'Kudos:': int, 'Language:': str,\n",
    "                  'Rating:': str, 'Relationship:': str,\n",
    "                  'Series:': str, 'Part:': float,\n",
    "                  'Source URL:': str, 'Title:': str,\n",
    "                  'Updated:': str, 'Words:': str,\n",
    "              }) \n",
    "\n",
    "\n",
    "# DO it better all in one pass\n",
    "additional_tags=','.join([','.join(tags.split(\",\")) for tags in stories_df[\"Additional Tags:\"]]).replace(\"/\",'*s*').split(',')\n",
    "print(len(additional_tags))\n",
    "additional_tags = [item.strip() for item in additional_tags]\n",
    "additional_tags=list(set(additional_tags))\n",
    "print(len(additional_tags))"
   ]
  },
  {
   "cell_type": "markdown",
   "metadata": {},
   "source": [
    "## Cleaning"
   ]
  },
  {
   "cell_type": "code",
   "execution_count": 86,
   "metadata": {},
   "outputs": [],
   "source": [
    "stories_df['Additional Tags:']=stories_df['Additional Tags:'].str.split(',')\n",
    "stories_df['Additional Tags:']=stories_df['Additional Tags:'].apply(lambda x: [item.strip() for item in x])\n",
    "# stories_df['Additional Tags:']=stories_df['Additional Tags:'].apply(lambda x: ','.join(x))"
   ]
  },
  {
   "cell_type": "code",
   "execution_count": 88,
   "metadata": {},
   "outputs": [
    {
     "data": {
      "text/plain": [
       "0                                  [Friends to Lovers]\n",
       "1    [Sophie/Sid, Sophie and Sid, Sid and Sophie, F...\n",
       "2        [Future Fic, Feelings, Apologies, First Kiss]\n",
       "3    [Fluff, Smut, cuteness, Making Out, Premature ...\n",
       "4                              [Domestic Fluff, Humor]\n",
       "5    [Future Fic, Speculation, Pregnancy, Childbirt...\n",
       "Name: Additional Tags:, dtype: object"
      ]
     },
     "execution_count": 88,
     "metadata": {},
     "output_type": "execute_result"
    }
   ],
   "source": [
    "stories_df['Additional Tags:']"
   ]
  },
  {
   "cell_type": "code",
   "execution_count": 89,
   "metadata": {},
   "outputs": [
    {
     "data": {
      "text/plain": [
       "0                               slow dancing\n",
       "1                              silver lining\n",
       "2                  why mess up a good thing?\n",
       "3    ain't that the way love supposed to be?\n",
       "4                              Empty Nesters\n",
       "5                          How He Chose Them\n",
       "Name: Title:, dtype: object"
      ]
     },
     "execution_count": 89,
     "metadata": {},
     "output_type": "execute_result"
    }
   ],
   "source": [
    "stories_df['Title:']=stories_df['Title:'].apply(lambda x: x.strip())\n",
    "# stories_df['Title:']\n"
   ]
  },
  {
   "cell_type": "markdown",
   "metadata": {},
   "source": [
    "# TagScra\n",
    "From a set of tags it scrap the RATAS in the archive and create JSON files with the info"
   ]
  },
  {
   "cell_type": "code",
   "execution_count": null,
   "metadata": {},
   "outputs": [],
   "source": [
    "#TODO add the output file name of the JSON tag-data as parameter\n",
    "args_to_tags_scraper=['node', './Modules/TagScraping/scraper.js' ]\n",
    "\n",
    "\n",
    "tag_structure_file_name='current_tag_net'\n",
    "additional_tags=[\"Hogwarts Eighth Year\",'Hogwarts Era',\"Hogwarts Fourth Year\"]\n",
    "# additional_tags=[\"Deaf Character\", \"Disability\",\"Hogwarts Eighth Year\",'Hogwarts Era',\"Hogwarts Fourth Year\"]\n",
    "\n",
    "\n",
    "# tag_structure_file_name='Disability_current_tag_net'\n",
    "# additional_tags=[\"Disability\"]\n",
    "\n",
    "\n",
    "# tag_structure_file_name='Disability_old_tag_net'\n",
    "# additional_tags=[\"Disability\"]\n",
    "# args_to_tags_scraper.extend(['-av','old'])\n",
    "\n",
    "\n",
    "\n",
    "args_to_tags_scraper.extend(['-of',tag_structure_file_name])\n",
    "args_to_tags_scraper.extend(['-t'])\n",
    "args_to_tags_scraper.extend(additional_tags)\n",
    "\n",
    "# p = check_output(args_to_tags_scraper)"
   ]
  },
  {
   "cell_type": "markdown",
   "metadata": {},
   "source": [
    "# Building the Network and Visuals"
   ]
  },
  {
   "cell_type": "markdown",
   "metadata": {},
   "source": [
    "## Current Disability Tag Network\n",
    "\n",
    "Opens the already mined Disability Tag network\n",
    "Builds the network\n",
    "Visualizes it"
   ]
  },
  {
   "cell_type": "code",
   "execution_count": 2,
   "metadata": {},
   "outputs": [],
   "source": [
    "tag_structure_file_name='Disability_current_tag_net'\n",
    "additional_tags=[\"Disability\"]\n",
    "\n",
    "with open('./OutputFiles/'+tag_structure_file_name+'.json', 'r', encoding='utf-8') as f:\n",
    "  current_data = json.load(f)\n",
    "f.close()\n",
    "\n",
    "G = net_build(current_data)\n",
    "\n",
    "current_dis=net_visualize(G, hierarchical_layout=False, node_sizes=True,headings=\"Disability Current Tag Network\", file_name=tag_structure_file_name)\n"
   ]
  },
  {
   "cell_type": "markdown",
   "metadata": {},
   "source": [
    "## OLD Disability Tag Network\n",
    "\n",
    "Opens the already mined Disability Tag network\n",
    "Builds the network\n",
    "Visualizes it"
   ]
  },
  {
   "cell_type": "code",
   "execution_count": 3,
   "metadata": {},
   "outputs": [],
   "source": [
    "tag_structure_file_name='Disability_old_tag_net'\n",
    "additional_tags=[\"Disability\"]\n",
    "\n",
    "with open('./OutputFiles/'+tag_structure_file_name+'.json', 'r', encoding='utf-8') as f:\n",
    "  old_data = json.load(f)\n",
    "f.close()\n",
    "\n",
    "H = net_build(old_data)\n",
    "\n",
    "# old_dis=net_visualize(H, hierarchical_layout=True, node_sizes=True,headings=\"Disability Old Tag Network\", file_name=tag_structure_file_name)\n",
    "old_dis=net_visualize(H, hierarchical_layout=False, node_sizes=True,headings=\"Disability Old Tag Network\", file_name=tag_structure_file_name)\n",
    "# net_visualize(H, hierarchical_layout=False, node_sizes=True,headings=\"Tag Network of: \"+ \",\".join(additional_tags), file_name=tag_structure_file_name)\n"
   ]
  },
  {
   "cell_type": "code",
   "execution_count": null,
   "metadata": {},
   "outputs": [],
   "source": [
    "new_vis, old_vis = get_visuals_older_vs_newest(H.copy(), G.copy(),hierarchical_layout=False)\n",
    "new_vis.show(\"disability_current_net.html\")\n",
    "old_vis.show(\"disability_old_net.html\")"
   ]
  },
  {
   "cell_type": "markdown",
   "metadata": {},
   "source": [
    "## Getting the difference\n"
   ]
  },
  {
   "cell_type": "markdown",
   "metadata": {},
   "source": [
    "### Current Disability Tag-Net - Old Disability Tag-Net\n",
    "\n",
    "Red represents the nodes and edges that will be removed in the difference, the ones that belong to the current verion that also belon to the older\n",
    "\n",
    "#### Blue represents what it is in the current version that was not in the older version == NEW"
   ]
  },
  {
   "cell_type": "code",
   "execution_count": 5,
   "metadata": {},
   "outputs": [],
   "source": [
    "diff_G_H,diff_G_H_vis=get_vis_G_diff_H(G,H,False,title=\"Diff new-old Disability\")\n",
    "diff_G_H_vis.show(\"diff_new_old.html\")"
   ]
  },
  {
   "cell_type": "markdown",
   "metadata": {},
   "source": [
    "### Old Disability Tag-Net - Current Disability Tag-Net\n",
    "\n",
    "Red represents the nodes and edges that will be removed in the difference, the ones that belong to the old verion that also belong to the current\n",
    "\n",
    "#### Blue represents what it was in the Old version that is not there in the current version == CHANGES, EVOLUTION"
   ]
  },
  {
   "cell_type": "code",
   "execution_count": 4,
   "metadata": {},
   "outputs": [],
   "source": [
    "diff_H_G,diff_H_G_vis=get_vis_G_diff_H(H,G,False, title=\"Diff old-new Disability\")\n",
    "diff_H_G_vis.show(\"diff_disability_old_new.html\")"
   ]
  },
  {
   "cell_type": "markdown",
   "metadata": {},
   "source": [
    "# Connecting Stories using the RATAS"
   ]
  },
  {
   "cell_type": "code",
   "execution_count": null,
   "metadata": {},
   "outputs": [],
   "source": [
    "S=nx.Graph()\n",
    "S.add_nodes_from(stories_df['Title:'])\n",
    "for story in stories_df['Title:']:\n",
    "    for conection in stories_df.loc[stories_df['Additional Tags:'].apply(lambda x: 'Fluff' in set(x)), 'Title:']:\n",
    "        S.add_edge(story,conection) if not story==conection else None\n",
    "\n",
    "net_visualize(S,False,False,\"Full Story-Tag Net\",'full_story_net')"
   ]
  }
 ],
 "metadata": {
  "interpreter": {
   "hash": "15315f8305ada7403457222de4ff35602b3ada66060eaca93174c828b1ddc526"
  },
  "kernelspec": {
   "display_name": "Python 3.8.3 ('base')",
   "language": "python",
   "name": "python3"
  },
  "language_info": {
   "codemirror_mode": {
    "name": "ipython",
    "version": 3
   },
   "file_extension": ".py",
   "mimetype": "text/x-python",
   "name": "python",
   "nbconvert_exporter": "python",
   "pygments_lexer": "ipython3",
   "version": "3.7.11"
  },
  "orig_nbformat": 4
 },
 "nbformat": 4,
 "nbformat_minor": 2
}
