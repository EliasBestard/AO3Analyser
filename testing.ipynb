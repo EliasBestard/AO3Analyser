{
 "cells": [
  {
   "cell_type": "code",
   "execution_count": 2,
   "metadata": {},
   "outputs": [],
   "source": [
    "import networkx as nx\n",
    "from Modules.NetVisualizer.net_visualizer import *\n",
    "from Modules.NetBuilder.net_builder import net_build"
   ]
  },
  {
   "cell_type": "markdown",
   "metadata": {},
   "source": [
    "# Connecting Stories using the RATAS"
   ]
  },
  {
   "cell_type": "code",
   "execution_count": null,
   "metadata": {},
   "outputs": [],
   "source": [
    "S=nx.Graph()\n",
    "S.add_nodes_from(stories_df['Title:'])\n",
    "for story in stories_df['Title:']:\n",
    "    for conection in stories_df.loc[stories_df['Additional Tags:'].apply(lambda x: 'Fluff' in set(x)), 'Title:']:\n",
    "        S.add_edge(story,conection) if not story==conection else None\n",
    "\n",
    "net_visualize(S,False,False,\"Full Story-Tag Net\",'full_story_net')"
   ]
  },
  {
   "cell_type": "code",
   "execution_count": null,
   "metadata": {},
   "outputs": [],
   "source": [
    "S=nx.Graph()\n",
    "S.add_nodes_from(stories_df['Title:'])\n",
    "for story in stories_df['Title:']:\n",
    "    for conection in stories_df.loc[stories_df['Additional Tags:'].apply(lambda x: 'Fluff' in set(x)), 'Title:']:\n",
    "        S.add_edge(story,conection) if not story==conection else None\n",
    "        # S[story][conection]['color']='#2196F3' if not edge in list_edges else '#E91E63'\n",
    "\n",
    "net_visualize(S,False,False,\"Full Story-Tag Net\",'full_story_net')"
   ]
  },
  {
   "cell_type": "markdown",
   "metadata": {},
   "source": [
    "# Reporting information\n"
   ]
  },
  {
   "cell_type": "code",
   "execution_count": null,
   "metadata": {},
   "outputs": [],
   "source": [
    "info_dict=get_G_info(disability_graph_list[0])"
   ]
  },
  {
   "cell_type": "code",
   "execution_count": null,
   "metadata": {},
   "outputs": [],
   "source": [
    "info_dict=get_G_diff_H_info(disability_graph_list[1],disability_graph_list[0], \"Disability 2014\", \"Disability 2013\")"
   ]
  },
  {
   "cell_type": "code",
   "execution_count": null,
   "metadata": {},
   "outputs": [],
   "source": [
    "info_dict=get_G_H_political_acts_info(disability_graph_list[1],disability_graph_list[0], \"Disability 2014\", \"Disability 2013\")"
   ]
  },
  {
   "cell_type": "code",
   "execution_count": null,
   "metadata": {},
   "outputs": [],
   "source": [
    "years='2013, 2014, 2015, 2016, 2017, 2018, 2021, 2022'.split(',')\n",
    "for i in range(1, len(disability_graph_list)):\n",
    "    get_G_H_political_acts_info(disability_graph_list[i],disability_graph_list[i-1], \"Disability \"+years[i], \"Disability \"+years[i-1],w_mode='a')"
   ]
  },
  {
   "cell_type": "code",
   "execution_count": null,
   "metadata": {},
   "outputs": [],
   "source": [
    "gen_tags_dataset(disability_graph_list[-1],disability_graph_list[-2],True)"
   ]
  },
  {
   "cell_type": "code",
   "execution_count": null,
   "metadata": {},
   "outputs": [],
   "source": [
    "\n",
    "gen_tags_dataset_list(disability_graph_list)"
   ]
  }
 ],
 "metadata": {
  "interpreter": {
   "hash": "87cdc7eef6c6cd4fceda7e27cb75fb28c96fc5b15f54dcab50faa1427b5814d6"
  },
  "kernelspec": {
   "display_name": "Python 3.7.11 ('base')",
   "language": "python",
   "name": "python3"
  },
  "language_info": {
   "codemirror_mode": {
    "name": "ipython",
    "version": 3
   },
   "file_extension": ".py",
   "mimetype": "text/x-python",
   "name": "python",
   "nbconvert_exporter": "python",
   "pygments_lexer": "ipython3",
   "version": "3.7.11"
  },
  "orig_nbformat": 4
 },
 "nbformat": 4,
 "nbformat_minor": 2
}
