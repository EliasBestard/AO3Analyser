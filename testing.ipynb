{
 "cells": [
  {
   "cell_type": "code",
   "execution_count": 1,
   "metadata": {},
   "outputs": [],
   "source": [
    "import networkx as nx\n",
    "import pandas as pd\n",
    "from Modules.NetVisualizer.net_visualizer import *\n",
    "from Modules.NetBuilder.net_builder import net_build\n",
    "from Utils.scraper_script import * "
   ]
  },
  {
   "cell_type": "code",
   "execution_count": 2,
   "metadata": {},
   "outputs": [],
   "source": [
    "data_to_read='./OutputFiles/disability_ratas_current/dascra_output_disability.xlsx'\n",
    "\n",
    "stories_df= pd.read_excel(data_to_read,\n",
    "              dtype={\n",
    "                  'AdditionalTags': str, 'ArchiveWarning': str,\n",
    "                  'Author': str, 'Bookmarks': str,\n",
    "                  'Category': str, 'Chapters': str,\n",
    "                  'Characters': str, 'Comments': str,\n",
    "                  'Fandom': str, 'Hits': int,\n",
    "                  'Kudos': object, 'Language': str,\n",
    "                  'Rating': str, 'Relationship': str,\n",
    "                  'Series': str, 'Part': float,\n",
    "                  'SourceURL': str, 'Title': str,\n",
    "                  'Updated': str, 'Words': str,\n",
    "              }) \n",
    "\n",
    "\n",
    "stories_df=stories_df.drop_duplicates()\n",
    "# stories_df=stories_df.drop(columns=['Author','Chapters','Fandom','Series','Part','Comments','Hits','Kudos','SourceURL','ArchiveWarning','Bookmarks','Category','Characters','Language','Rating','Relationship','Words'])\n",
    "\n",
    "\n",
    "stories_df=stories_df.loc[stories_df.Language == \"English\"]\n",
    "stories_df['Title']=stories_df['Title'].apply(lambda x: x.strip())\n",
    "\n",
    "stories_df['AdditionalTags']=stories_df['AdditionalTags'].apply(lambda x: [item.strip().replace(\"/\",'*s*').replace(\".\",'*d*').replace('?','*q*')  for item in str(x).split(',')])\n",
    "\n",
    "\n",
    "\n",
    "stories_df[\"Updated\"]=pd.to_datetime(stories_df[\"Updated\"])"
   ]
  },
  {
   "cell_type": "code",
   "execution_count": 3,
   "metadata": {},
   "outputs": [],
   "source": [
    "def is_ascii(s):\n",
    "    try:\n",
    "        s.encode(encoding='utf-8').decode('ascii')\n",
    "    except UnicodeDecodeError:\n",
    "        return False\n",
    "    else:\n",
    "        return True"
   ]
  },
  {
   "cell_type": "code",
   "execution_count": 4,
   "metadata": {},
   "outputs": [],
   "source": [
    "for column in stories_df.columns:\n",
    "    # if not column== \"AdditionalTags\" :\n",
    "    #     print(column)\n",
    "    stories_df= stories_df[stories_df[column].map(lambda x: str(x).isascii())]"
   ]
  },
  {
   "cell_type": "code",
   "execution_count": 11,
   "metadata": {},
   "outputs": [],
   "source": [
    "stories_df.reset_index(drop=True, inplace=True)"
   ]
  },
  {
   "cell_type": "code",
   "execution_count": 18,
   "metadata": {},
   "outputs": [],
   "source": [
    "\n",
    "df=stories_df[:100]\n",
    "df= df[df.columns[:10]]\n",
    "\n",
    "data_=df.to_latex( column_format=\"|c\"*len(df.columns)+\"|\",index=False,position=\"h!\").replace(\"\\\\toprule\",\"\\hline\").replace(\"\\\\midrule\",\"\\hline\").replace(\"\\\\bottomrule\",\"\\hline\")\n",
    "data_=data_.replace(\"\\\\begin{tabular}\",\"\\\\resizebox{\\columnwidth}{!}{\\\\begin{tabular}\")\n",
    "data_=data_.replace(\"\\end{tabular}\",\"\\end{tabular}}\\n \\caption{Caption}\\n \\label{tab:my_label}\")\n",
    "\n",
    "f = open(\"./OutputFiles/apendix_gen/static_report_tex/dascra_output_disability.tex\", \"w\", encoding=\"utf-8\")\n",
    "f.write(data_)\n",
    "f.close()"
   ]
  },
  {
   "cell_type": "code",
   "execution_count": null,
   "metadata": {},
   "outputs": [],
   "source": [
    "sheet_names=[\"net_properties\"]\n",
    "\n",
    "for sheet in sheet_names:\n",
    "    df = pd.read_csv(\"./OutputFiles/apendix_gen/all_disabilities_comparison_2.csv\")\n",
    "    data_=df.to_latex( column_format=\"|c\"*len(df.columns)+\"|\",index=False,position=\"h!\").replace(\"\\\\toprule\",\"\\hline\").replace(\"\\\\midrule\",\"\\hline\").replace(\"\\\\bottomrule\",\"\\hline\")\n",
    "    data_=data_.replace(\"\\\\begin{tabular}\",\"\\\\resizebox{\\columnwidth}{!}{\\\\begin{tabular}\")\n",
    "    data_=data_.replace(\"\\end{tabular}\",\"\\end{tabular}}\\n \\caption{Caption}\\n \\label{tab:my_label}\")\n",
    "\n",
    "    f = open(\"./OutputFiles/apendix_gen/static_report_tex/all_disabilities_comparison.tex\", \"w\", encoding=\"utf-8\")\n",
    "    f.write(data_)\n",
    "    f.close()"
   ]
  },
  {
   "cell_type": "code",
   "execution_count": null,
   "metadata": {},
   "outputs": [],
   "source": [
    "\n",
    "sheet_names=[\"net_properties\"]\n",
    "\n",
    "for sheet in sheet_names:\n",
    "    df = pd.read_csv(\"./OutputFiles/apendix_gen/reports_diff_disability_current_2013.csv\")\n",
    "    data_=df.to_latex( column_format=\"|c\"*len(df.columns)+\"|\",index=False,position=\"h!\").replace(\"\\\\toprule\",\"\\hline\").replace(\"\\\\midrule\",\"\\hline\").replace(\"\\\\bottomrule\",\"\\hline\")\n",
    "    data_=data_.replace(\"\\\\begin{tabular}\",\"\\\\resizebox{\\columnwidth}{!}{\\\\begin{tabular}\")\n",
    "    data_=data_.replace(\"\\end{tabular}\",\"\\end{tabular}}\\n \\caption{Caption}\\n \\label{tab:my_label}\")\n",
    "\n",
    "    f = open(\"./OutputFiles/apendix_gen/static_report_tex/reports_diff_disability_current_2013.tex\", \"w\", encoding=\"utf-8\")\n",
    "    f.write(data_)\n",
    "    f.close()"
   ]
  },
  {
   "cell_type": "code",
   "execution_count": null,
   "metadata": {},
   "outputs": [],
   "source": [
    "\n",
    "sheet_names=[\"net_properties\",\"general_information\",\"large_indegree_nodes\",\"large_outdegree_nodes\",\"canonical_nodes_with_synset\"]\n",
    "\n",
    "for sheet in sheet_names:\n",
    "    df = pd.read_excel(\"./OutputFiles/apendix_gen/report_disability_expanded.xlsx\",sheet_name=sheet).replace(\" \\toprule \")\n",
    "    data_=df.to_latex( column_format=\"|c\"*len(df.columns)+\"|\",index=False,position=\"h!\").replace(\"\\\\toprule\",\"\\hline\").replace(\"\\\\midrule\",\"\\hline\").replace(\"\\\\bottomrule\",\"\\hline\")\n",
    "    data_=data_.replace(\"\\\\begin{tabular}\",\"\\\\resizebox{\\columnwidth}{!}{\\\\begin{tabular}\")\n",
    "    data_=data_.replace(\"\\end{tabular}\",\"\\end{tabular}}\\n \\caption{Caption}\\n \\label{tab:my_label}\")\n",
    "\n",
    "    f = open(\"./OutputFiles/apendix_gen/static_report_tex/disability_extended_\"+sheet+\".tex\", \"w\", encoding=\"utf-8\")\n",
    "    f.write(data_)\n",
    "    f.close()"
   ]
  },
  {
   "cell_type": "markdown",
   "metadata": {},
   "source": [
    "# Connecting Stories using the RATAS"
   ]
  },
  {
   "cell_type": "code",
   "execution_count": null,
   "metadata": {},
   "outputs": [],
   "source": [
    "data_to_read='./OutputFiles/disability_ratas_current/dascra_output_disability.xlsx'\n",
    "\n",
    "stories_df= pd.read_excel(data_to_read,\n",
    "              dtype={\n",
    "                  'AdditionalTags': str, 'ArchiveWarning': str,\n",
    "                  'Author': str, 'Bookmarks': str,\n",
    "                  'Category': str, 'Chapters': str,\n",
    "                  'Characters': str, 'Comments': str,\n",
    "                  'Fandom': str, 'Hits': int,\n",
    "                  'Kudos': object, 'Language': str,\n",
    "                  'Rating': str, 'Relationship': str,\n",
    "                  'Series': str, 'Part': float,\n",
    "                  'SourceURL': str, 'Title': str,\n",
    "                  'Updated': str, 'Words': str,\n",
    "              }) \n",
    "\n",
    "\n",
    "stories_df=stories_df.drop_duplicates()\n",
    "stories_df=stories_df.drop(columns=['Author','Chapters','Fandom','Series','Part','Comments','Hits','Kudos','SourceURL','ArchiveWarning','Bookmarks','Category','Characters','Language','Rating','Relationship','Words'])\n",
    "\n",
    "\n",
    "\n",
    "stories_df['Title']=stories_df['Title'].apply(lambda x: x.strip())\n",
    "\n",
    "stories_df['AdditionalTags']=stories_df['AdditionalTags'].apply(lambda x: [item.strip().replace(\"/\",'*s*').replace(\".\",'*d*').replace('?','*q*')  for item in str(x).split(',')])\n",
    "# stories_df['AdditionalTags']=stories_df['AdditionalTags'].apply(lambda x: [item.replace(\"/\",'*s*').replace(\".\",'*d*').replace('?','*q*') for item in str(x).split(',')])\n",
    "all_additionaltags=[]\n",
    "stories_df[\"AdditionalTags\"].apply(lambda x: all_additionaltags.extend(x))\n",
    "len(all_additionaltags)\n",
    "\n",
    "\n",
    "stories_df['StoryTagCount']=stories_df[\"AdditionalTags\"].apply(lambda x: len(x))\n",
    "\n",
    "disability_ratas = read_JSON('./OutputFiles/disability_ratas_current/rata_disability_current_expanded_full.json')\n",
    "disability_ratas = net_build(disability_ratas)\n",
    "stories_df[\"DisabilityTags\"]=stories_df.AdditionalTags.apply(lambda x : [item for item in x if disability_ratas.has_node(item)])\n",
    "\n",
    "stories_df[\"DisabilitySynTags\"]=stories_df.AdditionalTags.apply(lambda x : [item for item in x if disability_ratas.has_node(item) and disability_ratas.nodes[item]['type']=='synned_tag'])\n",
    "stories_df[\"DisabilitySynTagsCount\"]=stories_df.DisabilitySynTags.apply(len)\n",
    "\n",
    "\n",
    "stories_df[\"Updated\"]=pd.to_datetime(stories_df[\"Updated\"])"
   ]
  },
  {
   "cell_type": "code",
   "execution_count": null,
   "metadata": {},
   "outputs": [],
   "source": [
    "# stories_df=stories_df.loc[stories_df.Updated<pd.Timestamp(2013,12,31)]\n",
    "stories_df= stories_df.loc[stories_df.DisabilitySynTagsCount>0]\n",
    "# stories_df.shape"
   ]
  },
  {
   "cell_type": "code",
   "execution_count": null,
   "metadata": {},
   "outputs": [],
   "source": [
    "additional_tags={}\n",
    "\n",
    "for title, tag_list in zip(stories_df['Title'],stories_df['DisabilityTags']):\n",
    "    for tag in tag_list:\n",
    "        if not tag in additional_tags:\n",
    "            additional_tags[tag]=[title]\n",
    "        else:\n",
    "            additional_tags[tag].append(title) if not title in additional_tags[tag] else None\n",
    "            \n",
    "additional_tags.__len__()"
   ]
  },
  {
   "cell_type": "code",
   "execution_count": null,
   "metadata": {},
   "outputs": [],
   "source": [
    "fulltag_net=nx.Graph()\n",
    "\n",
    "fulltag_net.add_nodes_from(stories_df['Title'])\n",
    "del(stories_df)\n",
    "\n",
    "for tag,list_titles in additional_tags.items():\n",
    "    temp=nx.complete_graph(list_titles)\n",
    "    fulltag_net.add_edges_from(list(nx.edges(temp)))\n",
    "    \n",
    "    if disability_ratas.nodes[tag]['type']=='freeform_tag':\n",
    "        for edges in list(nx.edges(temp)):\n",
    "            fulltag_net[edges[0]][edges[1]]['color']='green'\n",
    "    if disability_ratas.nodes[tag]['type']=='canonical_tag':\n",
    "        for edges in list(nx.edges(temp)):\n",
    "            fulltag_net[edges[0]][edges[1]]['color']='red'\n",
    "    \n",
    "    if disability_ratas.nodes[tag]['type']=='synned_tag':\n",
    "        for edges in list(nx.edges(temp)):\n",
    "            fulltag_net[edges[0]][edges[1]]['color']='green'"
   ]
  },
  {
   "cell_type": "code",
   "execution_count": null,
   "metadata": {},
   "outputs": [],
   "source": [
    "net_visualize_story_set(fulltag_net,headings=\"Full Tag Network\",file_name=\"full_tag_net\")\n"
   ]
  },
  {
   "cell_type": "code",
   "execution_count": null,
   "metadata": {},
   "outputs": [],
   "source": [
    "# net_visualize(canonical_net,node_sizes=False,directed=False,headings=\"Canonical Tag Network\",file_name=\"canonical_tag_net\")\n",
    "# net_visualize(syn_net,node_sizes=False,directed=False,headings=\"Syn Tag Network\",file_name=\"syn_tag_net\")\n",
    "# # net_visualize(freeform_net,node_sizes=False,directed=False,headings=\"Free-Form Tag Network\",file_name=\"freeform_tag_net\")\n",
    "# net_visualize(fulltag_net,node_sizes=False,directed=False,headings=\"Full Tag Network\",file_name=\"full_tag_net\")"
   ]
  }
 ],
 "metadata": {
  "interpreter": {
   "hash": "87cdc7eef6c6cd4fceda7e27cb75fb28c96fc5b15f54dcab50faa1427b5814d6"
  },
  "kernelspec": {
   "display_name": "Python 3.7.11 ('base')",
   "language": "python",
   "name": "python3"
  },
  "language_info": {
   "codemirror_mode": {
    "name": "ipython",
    "version": 3
   },
   "file_extension": ".py",
   "mimetype": "text/x-python",
   "name": "python",
   "nbconvert_exporter": "python",
   "pygments_lexer": "ipython3",
   "version": "3.7.11"
  },
  "orig_nbformat": 4
 },
 "nbformat": 4,
 "nbformat_minor": 2
}
